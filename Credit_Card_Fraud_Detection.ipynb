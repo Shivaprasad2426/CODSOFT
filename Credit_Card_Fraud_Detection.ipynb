{
  "nbformat": 4,
  "nbformat_minor": 0,
  "metadata": {
    "colab": {
      "provenance": []
    },
    "kernelspec": {
      "name": "python3",
      "display_name": "Python 3"
    },
    "language_info": {
      "name": "python"
    }
  },
  "cells": [
    {
      "cell_type": "code",
      "execution_count": null,
      "metadata": {
        "id": "qq-lhWxzZ26S"
      },
      "outputs": [],
      "source": [
        "import pandas as pd\n",
        "import numpy as np\n"
      ]
    },
    {
      "cell_type": "code",
      "source": [
        "df=pd.read_csv(\"creditcard.csv\")\n",
        "df"
      ],
      "metadata": {
        "id": "DwBQMsNaaNHf"
      },
      "execution_count": null,
      "outputs": []
    },
    {
      "cell_type": "code",
      "source": [
        "df.head()"
      ],
      "metadata": {
        "id": "X3F9QguKaVeV"
      },
      "execution_count": null,
      "outputs": []
    },
    {
      "cell_type": "code",
      "source": [
        "df.info()"
      ],
      "metadata": {
        "id": "kxMENhslalqf"
      },
      "execution_count": null,
      "outputs": []
    },
    {
      "cell_type": "code",
      "source": [
        "df.describe()"
      ],
      "metadata": {
        "id": "S8yhZ-XganZ1"
      },
      "execution_count": null,
      "outputs": []
    },
    {
      "cell_type": "code",
      "source": [
        "import matplotlib.pyplot as plt\n",
        "import seaborn as sns\n",
        "plt.figure(figsize=(6,4))\n",
        "sns.countplot(x=\"Class\", data=df, palette=\"coolwarm\")\n",
        "plt.title(\"Class Distribution: Fraud vs. Genuine Transactions\")\n",
        "plt.show()"
      ],
      "metadata": {
        "id": "oigRTqOtdsZM"
      },
      "execution_count": null,
      "outputs": []
    },
    {
      "cell_type": "code",
      "source": [
        "plt.figure(figsize=(6,4))\n",
        "sns.histplot(df[\"Amount\"], bins=50, kde=True)\n",
        "plt.title(\"Transaction Amount Distribution\")\n",
        "plt.show()"
      ],
      "metadata": {
        "id": "2ut3YcJJdvDY"
      },
      "execution_count": null,
      "outputs": []
    },
    {
      "cell_type": "code",
      "source": [
        "plt.figure(figsize=(12,8))\n",
        "sns.heatmap(df.corr(), cmap=\"coolwarm\", linewidths=0.5)\n",
        "plt.title(\"Feature Correlation Heatmap\")\n",
        "plt.show()"
      ],
      "metadata": {
        "id": "I8tl0ymnd0ig"
      },
      "execution_count": null,
      "outputs": []
    },
    {
      "cell_type": "code",
      "source": [
        "print(df[\"Class\"].value_counts(normalize=True) * 100)"
      ],
      "metadata": {
        "id": "FooH9HWrapTr"
      },
      "execution_count": null,
      "outputs": []
    },
    {
      "cell_type": "code",
      "source": [
        "from sklearn.preprocessing import StandardScaler"
      ],
      "metadata": {
        "id": "aJbeFWFlawnV"
      },
      "execution_count": null,
      "outputs": []
    },
    {
      "cell_type": "code",
      "source": [
        "scaler = StandardScaler()\n",
        "df[\"Amount\"] = scaler.fit_transform(df[[\"Amount\"]])\n",
        "df[\"Amount\"]"
      ],
      "metadata": {
        "id": "ymIYCYE0bXZ2"
      },
      "execution_count": null,
      "outputs": []
    },
    {
      "cell_type": "code",
      "source": [
        "df.drop([\"Time\"], axis=1, inplace=True)\n",
        "df.head()\n"
      ],
      "metadata": {
        "id": "6TzLbwdjcePc"
      },
      "execution_count": null,
      "outputs": []
    },
    {
      "cell_type": "code",
      "source": [
        "X = df.drop(columns=[\"Class\"])  # Features\n",
        "y = df[\"Class\"]  # Target variable\n",
        "\n",
        "# Print dataset shape after preprocessing\n",
        "print(\"Dataset shape after preprocessing:\", X.shape)\n"
      ],
      "metadata": {
        "id": "ImDffH-ScewP"
      },
      "execution_count": null,
      "outputs": []
    },
    {
      "cell_type": "code",
      "source": [
        "from sklearn.model_selection import train_test_split\n",
        "from imblearn.over_sampling import SMOTE\n",
        "X_train, X_test, y_train, y_test = train_test_split(X, y, test_size=0.2, random_state=42, stratify=y)"
      ],
      "metadata": {
        "id": "QEJ_p9GTc7I0"
      },
      "execution_count": null,
      "outputs": []
    },
    {
      "cell_type": "code",
      "source": [
        "smote = SMOTE(random_state=42)\n",
        "X_train_resampled, y_train_resampled = smote.fit_resample(X_train, y_train)\n"
      ],
      "metadata": {
        "id": "JGMEft7EdHnu"
      },
      "execution_count": null,
      "outputs": []
    },
    {
      "cell_type": "code",
      "source": [
        "print(\"Before SMOTE:\", y_train.value_counts())  # Original class distribution\n",
        "print(\"After SMOTE:\", pd.Series(y_train_resampled).value_counts())"
      ],
      "metadata": {
        "id": "PQqoofkFdNJG"
      },
      "execution_count": null,
      "outputs": []
    },
    {
      "cell_type": "code",
      "source": [
        "from sklearn.linear_model import LogisticRegression\n",
        "from sklearn.ensemble import RandomForestClassifier\n",
        "from sklearn.metrics import classification_report, confusion_matrix, roc_curve, auc"
      ],
      "metadata": {
        "id": "TlzVXF6CdSM-"
      },
      "execution_count": null,
      "outputs": []
    },
    {
      "cell_type": "code",
      "source": [
        "lr_model = LogisticRegression()\n",
        "lr_model.fit(X_train_resampled, y_train_resampled)\n"
      ],
      "metadata": {
        "id": "LLlMjYWZdngX"
      },
      "execution_count": null,
      "outputs": []
    },
    {
      "cell_type": "code",
      "source": [
        "lr_preds = lr_model.predict(X_test)\n",
        "lr_preds"
      ],
      "metadata": {
        "id": "L3AGeC8iglz8"
      },
      "execution_count": null,
      "outputs": []
    },
    {
      "cell_type": "code",
      "source": [
        "print(\"Logistic Regression Performance:\\n\", classification_report(y_test, lr_preds))"
      ],
      "metadata": {
        "id": "Oh9-dmekgrtq"
      },
      "execution_count": null,
      "outputs": []
    },
    {
      "cell_type": "code",
      "source": [
        "rf_model = RandomForestClassifier(n_estimators=100, random_state=42)\n",
        "rf_model.fit(X_train_resampled, y_train_resampled)"
      ],
      "metadata": {
        "id": "okt_crOSg43p"
      },
      "execution_count": null,
      "outputs": []
    },
    {
      "cell_type": "code",
      "source": [
        "rf_preds = rf_model.predict(X_test)\n",
        "rf_preds"
      ],
      "metadata": {
        "id": "zXvDwH5Fg9JN"
      },
      "execution_count": null,
      "outputs": []
    },
    {
      "cell_type": "code",
      "source": [
        "print(\"Random Forest Performance:\\n\", classification_report(y_test, rf_preds))\n"
      ],
      "metadata": {
        "id": "gv9pqnj9hBsX"
      },
      "execution_count": null,
      "outputs": []
    },
    {
      "cell_type": "code",
      "source": [
        "def plot_confusion_matrix(y_true, y_pred, title):\n",
        "    cm = confusion_matrix(y_true, y_pred)\n",
        "    plt.figure(figsize=(6,4))\n",
        "    sns.heatmap(cm, annot=True, fmt=\"d\", cmap=\"coolwarm\", xticklabels=[\"Genuine\", \"Fraud\"], yticklabels=[\"Genuine\", \"Fraud\"])\n",
        "    plt.xlabel(\"Predicted\")\n",
        "    plt.ylabel(\"Actual\")\n",
        "    plt.title(title)\n",
        "    plt.show()"
      ],
      "metadata": {
        "id": "p6x2z7FOhGTq"
      },
      "execution_count": null,
      "outputs": []
    },
    {
      "cell_type": "code",
      "source": [
        "plot_confusion_matrix(y_test, lr_preds, \"Logistic Regression - Confusion Matrix\")\n",
        "plot_confusion_matrix(y_test, rf_preds, \"Random Forest - Confusion Matrix\")"
      ],
      "metadata": {
        "id": "U9KbfmiUhKRE"
      },
      "execution_count": null,
      "outputs": []
    },
    {
      "cell_type": "code",
      "source": [
        "def plot_roc_curve(y_true, model, title):\n",
        "    y_probs = model.predict_proba(X_test)[:, 1]  # Get fraud probabilities\n",
        "    fpr, tpr, _ = roc_curve(y_true, y_probs)\n",
        "    roc_auc = auc(fpr, tpr)\n",
        "\n",
        "    plt.figure(figsize=(6,4))\n",
        "    plt.plot(fpr, tpr, label=f\"AUC = {roc_auc:.2f}\", color=\"blue\")\n",
        "    plt.plot([0,1], [0,1], \"k--\", label=\"Random Guess\")\n",
        "    plt.xlabel(\"False Positive Rate\")\n",
        "    plt.ylabel(\"True Positive Rate\")\n",
        "    plt.title(title)\n",
        "    plt.legend()\n",
        "    plt.show()"
      ],
      "metadata": {
        "id": "w-EQfxKJiZF8"
      },
      "execution_count": null,
      "outputs": []
    },
    {
      "cell_type": "code",
      "source": [
        "plot_roc_curve(y_test, lr_model, \"Logistic Regression - ROC Curve\")\n",
        "plot_roc_curve(y_test, rf_model, \"Random Forest - ROC Curve\")"
      ],
      "metadata": {
        "id": "vMlF2dekicoV"
      },
      "execution_count": null,
      "outputs": []
    },
    {
      "cell_type": "code",
      "source": [],
      "metadata": {
        "id": "H8APRTN5igag"
      },
      "execution_count": null,
      "outputs": []
    }
  ]
}